{
 "cells": [
  {
   "cell_type": "code",
   "execution_count": 11,
   "id": "c7dd01be",
   "metadata": {},
   "outputs": [
    {
     "name": "stdout",
     "output_type": "stream",
     "text": [
      "                      Investment              Type Potential Return (%)  \\\n",
      "0                         Stocks         Financial                 High   \n",
      "1                    Real Estate          Property              Average   \n",
      "2                           Gold         Commodity              Average   \n",
      "3                 Cryptocurrency         Financial                 High   \n",
      "4                          Bonds         Financial                  Low   \n",
      "5                   Mutual Funds         Financial              Average   \n",
      "6            Starting a Business  Entrepreneurship                 High   \n",
      "7                      Education          Personal              Average   \n",
      "8                     Retirement         Financial              Average   \n",
      "9                   Buying a Car          Personal                  Low   \n",
      "10                  Collectibles             Hobby              Average   \n",
      "11                      Fine Art             Hobby              Average   \n",
      "12                   Index Funds         Financial              Average   \n",
      "13          Peer-to-Peer Lending         Financial              Average   \n",
      "14           Commodities Futures         Financial                 High   \n",
      "15               Angel Investing  Entrepreneurship                 High   \n",
      "16              Government Bonds         Financial                  Low   \n",
      "17             Rental Properties          Property              Average   \n",
      "18        Certificate of Deposit         Financial                  Low   \n",
      "19      Peer-to-Peer Real Estate          Property                 High   \n",
      "20                  Vintage Cars             Hobby                 High   \n",
      "21      Foreign Exchange Trading         Financial                 High   \n",
      "22                  Crowdfunding         Financial                 High   \n",
      "23               Venture Capital  Entrepreneurship                 High   \n",
      "24                Treasury Bills         Financial                  Low   \n",
      "25              Vacation Rentals          Property              Average   \n",
      "26                          Wine             Hobby                 High   \n",
      "27         Small Business Stocks  Entrepreneurship                 High   \n",
      "28                     Livestock         Commodity              Average   \n",
      "29  Personal Development Courses          Personal              Average   \n",
      "30               Classic Watches             Hobby                 High   \n",
      "31              Savings Accounts         Financial                  Low   \n",
      "32        Peer-to-Peer Investing         Financial                 High   \n",
      "33                      Farmland          Property              Average   \n",
      "34             Antique Furniture             Hobby                  Low   \n",
      "\n",
      "    Risk Level (1-5)  Liquidity (1-5)  Minimum Investment(Rs.)  \n",
      "0                  3                4                      500  \n",
      "1                  4                2                    50000  \n",
      "2                  2                3                     1000  \n",
      "3                  5                4                      100  \n",
      "4                  2                3                     1000  \n",
      "5                  3                4                     1000  \n",
      "6                  5                2                    10000  \n",
      "7                  2                1                      500  \n",
      "8                  2                3                     5000  \n",
      "9                  3                3                    10000  \n",
      "10                 4                2                      500  \n",
      "11                 4                2                     1000  \n",
      "12                 3                4                     1000  \n",
      "13                 3                4                     1000  \n",
      "14                 4                4                     1000  \n",
      "15                 5                4                    10000  \n",
      "16                 1                4                     1000  \n",
      "17                 4                3                    50000  \n",
      "18                 1                5                      500  \n",
      "19                 4                3                    10000  \n",
      "20                 4                3                     5000  \n",
      "21                 5                4                     1000  \n",
      "22                 4                3                     1000  \n",
      "23                 5                4                    50000  \n",
      "24                 1                5                     1000  \n",
      "25                 4                3                    10000  \n",
      "26                 4                2                      500  \n",
      "27                 4                3                     1000  \n",
      "28                 3                2                     1000  \n",
      "29                 2                1                      100  \n",
      "30                 4                2                      500  \n",
      "31                 1                5                      100  \n",
      "32                 4                4                     1000  \n",
      "33                 3                2                    10000  \n",
      "34                 3                2                      500  \n"
     ]
    }
   ],
   "source": [
    "import pandas as pd\n",
    "investment_data=pd.read_excel(\"investments.xlsx\")"
   ]
  },
  {
   "cell_type": "code",
   "execution_count": 5,
   "id": "100a5dee",
   "metadata": {},
   "outputs": [],
   "source": [
    "riskTolerance=4"
   ]
  },
  {
   "cell_type": "code",
   "execution_count": 10,
   "id": "752189f4",
   "metadata": {},
   "outputs": [],
   "source": [
    "savings=20000"
   ]
  },
  {
   "cell_type": "code",
   "execution_count": 8,
   "id": "433e32dd",
   "metadata": {},
   "outputs": [],
   "source": [
    "liquidity=3"
   ]
  },
  {
   "cell_type": "code",
   "execution_count": 14,
   "id": "048558c4",
   "metadata": {},
   "outputs": [
    {
     "name": "stdout",
     "output_type": "stream",
     "text": [
      "                      Investment              Type Potential Return (%)  \\\n",
      "0                         Stocks         Financial                 High   \n",
      "1                    Real Estate          Property              Average   \n",
      "2                           Gold         Commodity              Average   \n",
      "4                          Bonds         Financial                  Low   \n",
      "5                   Mutual Funds         Financial              Average   \n",
      "7                      Education          Personal              Average   \n",
      "8                     Retirement         Financial              Average   \n",
      "9                   Buying a Car          Personal                  Low   \n",
      "10                  Collectibles             Hobby              Average   \n",
      "11                      Fine Art             Hobby              Average   \n",
      "12                   Index Funds         Financial              Average   \n",
      "13          Peer-to-Peer Lending         Financial              Average   \n",
      "14           Commodities Futures         Financial                 High   \n",
      "16              Government Bonds         Financial                  Low   \n",
      "17             Rental Properties          Property              Average   \n",
      "18        Certificate of Deposit         Financial                  Low   \n",
      "19      Peer-to-Peer Real Estate          Property                 High   \n",
      "20                  Vintage Cars             Hobby                 High   \n",
      "22                  Crowdfunding         Financial                 High   \n",
      "24                Treasury Bills         Financial                  Low   \n",
      "25              Vacation Rentals          Property              Average   \n",
      "26                          Wine             Hobby                 High   \n",
      "27         Small Business Stocks  Entrepreneurship                 High   \n",
      "28                     Livestock         Commodity              Average   \n",
      "29  Personal Development Courses          Personal              Average   \n",
      "30               Classic Watches             Hobby                 High   \n",
      "31              Savings Accounts         Financial                  Low   \n",
      "32        Peer-to-Peer Investing         Financial                 High   \n",
      "33                      Farmland          Property              Average   \n",
      "34             Antique Furniture             Hobby                  Low   \n",
      "\n",
      "    Risk Level (1-5)  Liquidity (1-5)  Minimum Investment(Rs.)  \n",
      "0                  3                4                      500  \n",
      "1                  4                2                    50000  \n",
      "2                  2                3                     1000  \n",
      "4                  2                3                     1000  \n",
      "5                  3                4                     1000  \n",
      "7                  2                1                      500  \n",
      "8                  2                3                     5000  \n",
      "9                  3                3                    10000  \n",
      "10                 4                2                      500  \n",
      "11                 4                2                     1000  \n",
      "12                 3                4                     1000  \n",
      "13                 3                4                     1000  \n",
      "14                 4                4                     1000  \n",
      "16                 1                4                     1000  \n",
      "17                 4                3                    50000  \n",
      "18                 1                5                      500  \n",
      "19                 4                3                    10000  \n",
      "20                 4                3                     5000  \n",
      "22                 4                3                     1000  \n",
      "24                 1                5                     1000  \n",
      "25                 4                3                    10000  \n",
      "26                 4                2                      500  \n",
      "27                 4                3                     1000  \n",
      "28                 3                2                     1000  \n",
      "29                 2                1                      100  \n",
      "30                 4                2                      500  \n",
      "31                 1                5                      100  \n",
      "32                 4                4                     1000  \n",
      "33                 3                2                    10000  \n",
      "34                 3                2                      500  \n"
     ]
    }
   ],
   "source": [
    "df = pd.DataFrame(investment_data)\n",
    "filtered_by_risk=df[df['Risk Level (1-5)'] <= riskTolerance]"
   ]
  },
  {
   "cell_type": "code",
   "execution_count": 21,
   "id": "891835d1",
   "metadata": {
    "scrolled": true
   },
   "outputs": [
    {
     "name": "stdout",
     "output_type": "stream",
     "text": [
      "                      Investment              Type Potential Return (%)  \\\n",
      "0                         Stocks         Financial                 High   \n",
      "32        Peer-to-Peer Investing         Financial                 High   \n",
      "30               Classic Watches             Hobby                 High   \n",
      "27         Small Business Stocks  Entrepreneurship                 High   \n",
      "26                          Wine             Hobby                 High   \n",
      "22                  Crowdfunding         Financial                 High   \n",
      "20                  Vintage Cars             Hobby                 High   \n",
      "19      Peer-to-Peer Real Estate          Property                 High   \n",
      "14           Commodities Futures         Financial                 High   \n",
      "29  Personal Development Courses          Personal              Average   \n",
      "28                     Livestock         Commodity              Average   \n",
      "25              Vacation Rentals          Property              Average   \n",
      "33                      Farmland          Property              Average   \n",
      "17             Rental Properties          Property              Average   \n",
      "13          Peer-to-Peer Lending         Financial              Average   \n",
      "12                   Index Funds         Financial              Average   \n",
      "11                      Fine Art             Hobby              Average   \n",
      "10                  Collectibles             Hobby              Average   \n",
      "8                     Retirement         Financial              Average   \n",
      "7                      Education          Personal              Average   \n",
      "5                   Mutual Funds         Financial              Average   \n",
      "2                           Gold         Commodity              Average   \n",
      "1                    Real Estate          Property              Average   \n",
      "18        Certificate of Deposit         Financial                  Low   \n",
      "24                Treasury Bills         Financial                  Low   \n",
      "9                   Buying a Car          Personal                  Low   \n",
      "4                          Bonds         Financial                  Low   \n",
      "31              Savings Accounts         Financial                  Low   \n",
      "16              Government Bonds         Financial                  Low   \n",
      "34             Antique Furniture             Hobby                  Low   \n",
      "\n",
      "    Risk Level (1-5)  Liquidity (1-5)  Minimum Investment(Rs.)  \n",
      "0                  3                4                      500  \n",
      "32                 4                4                     1000  \n",
      "30                 4                2                      500  \n",
      "27                 4                3                     1000  \n",
      "26                 4                2                      500  \n",
      "22                 4                3                     1000  \n",
      "20                 4                3                     5000  \n",
      "19                 4                3                    10000  \n",
      "14                 4                4                     1000  \n",
      "29                 2                1                      100  \n",
      "28                 3                2                     1000  \n",
      "25                 4                3                    10000  \n",
      "33                 3                2                    10000  \n",
      "17                 4                3                    50000  \n",
      "13                 3                4                     1000  \n",
      "12                 3                4                     1000  \n",
      "11                 4                2                     1000  \n",
      "10                 4                2                      500  \n",
      "8                  2                3                     5000  \n",
      "7                  2                1                      500  \n",
      "5                  3                4                     1000  \n",
      "2                  2                3                     1000  \n",
      "1                  4                2                    50000  \n",
      "18                 1                5                      500  \n",
      "24                 1                5                     1000  \n",
      "9                  3                3                    10000  \n",
      "4                  2                3                     1000  \n",
      "31                 1                5                      100  \n",
      "16                 1                4                     1000  \n",
      "34                 3                2                      500  \n"
     ]
    },
    {
     "name": "stderr",
     "output_type": "stream",
     "text": [
      "/tmp/ipykernel_6424/4174060494.py:2: SettingWithCopyWarning: \n",
      "A value is trying to be set on a copy of a slice from a DataFrame.\n",
      "Try using .loc[row_indexer,col_indexer] = value instead\n",
      "\n",
      "See the caveats in the documentation: https://pandas.pydata.org/pandas-docs/stable/user_guide/indexing.html#returning-a-view-versus-a-copy\n",
      "  filtered_by_risk['Potential Return (%)'] = pd.Categorical(filtered_by_risk['Potential Return (%)'], categories=custom_order, ordered=True)\n"
     ]
    }
   ],
   "source": [
    "custom_order = ['High', 'Average', 'Low']\n",
    "filtered_by_risk['Potential Return (%)'] = pd.Categorical(filtered_by_risk['Potential Return (%)'], categories=custom_order, ordered=True)\n",
    "sorted_by_return = filtered_by_risk.sort_values(by='Potential Return (%)')"
   ]
  },
  {
   "cell_type": "code",
   "execution_count": 25,
   "id": "a60b84bf",
   "metadata": {},
   "outputs": [
    {
     "name": "stdout",
     "output_type": "stream",
     "text": [
      "                  Investment              Type Potential Return (%)  \\\n",
      "0                     Stocks         Financial                 High   \n",
      "32    Peer-to-Peer Investing         Financial                 High   \n",
      "30           Classic Watches             Hobby                 High   \n",
      "27     Small Business Stocks  Entrepreneurship                 High   \n",
      "26                      Wine             Hobby                 High   \n",
      "22              Crowdfunding         Financial                 High   \n",
      "20              Vintage Cars             Hobby                 High   \n",
      "19  Peer-to-Peer Real Estate          Property                 High   \n",
      "\n",
      "    Risk Level (1-5)  Liquidity (1-5)  Minimum Investment(Rs.)  \n",
      "0                  3                4                      500  \n",
      "32                 4                4                     1000  \n",
      "30                 4                2                      500  \n",
      "27                 4                3                     1000  \n",
      "26                 4                2                      500  \n",
      "22                 4                3                     1000  \n",
      "20                 4                3                     5000  \n",
      "19                 4                3                    10000  \n"
     ]
    }
   ],
   "source": [
    "cumulative_investment=0\n",
    "selected_rows=[]\n",
    "for index, row in sorted_by_return.iterrows():\n",
    "    cumulative_investment += row['Minimum Investment(Rs.)']\n",
    "    if cumulative_investment <= savings:\n",
    "        selected_rows.append(row)\n",
    "    else:\n",
    "        break\n",
    "selected_df = pd.DataFrame(selected_rows)\n",
    "print(selected_df)"
   ]
  },
  {
   "cell_type": "code",
   "execution_count": null,
   "id": "f688f86c",
   "metadata": {},
   "outputs": [],
   "source": [
    "import pickle"
   ]
  }
 ],
 "metadata": {
  "kernelspec": {
   "display_name": "Python 3 (ipykernel)",
   "language": "python",
   "name": "python3"
  },
  "language_info": {
   "codemirror_mode": {
    "name": "ipython",
    "version": 3
   },
   "file_extension": ".py",
   "mimetype": "text/x-python",
   "name": "python",
   "nbconvert_exporter": "python",
   "pygments_lexer": "ipython3",
   "version": "3.9.13"
  }
 },
 "nbformat": 4,
 "nbformat_minor": 5
}
